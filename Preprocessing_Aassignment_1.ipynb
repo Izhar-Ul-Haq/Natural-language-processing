{
  "nbformat": 4,
  "nbformat_minor": 0,
  "metadata": {
    "colab": {
      "name": "Preprocessing_Aassignment 1.ipynb",
      "provenance": [],
      "toc_visible": true,
      "authorship_tag": "ABX9TyMFbQjQFcwCpvQGC3nQmWpr",
      "include_colab_link": true
    },
    "kernelspec": {
      "name": "python3",
      "display_name": "Python 3"
    },
    "language_info": {
      "name": "python"
    }
  },
  "cells": [
    {
      "cell_type": "markdown",
      "metadata": {
        "id": "view-in-github",
        "colab_type": "text"
      },
      "source": [
        "<a href=\"https://colab.research.google.com/github/hussain0048/Natural-language-processing/blob/main/Preprocessing_Aassignment_1.ipynb\" target=\"_parent\"><img src=\"https://colab.research.google.com/assets/colab-badge.svg\" alt=\"Open In Colab\"/></a>"
      ]
    },
    {
      "cell_type": "markdown",
      "source": [
        "# **Setup**"
      ],
      "metadata": {
        "id": "lhS8GMWnNG7J"
      }
    },
    {
      "cell_type": "code",
      "execution_count": 1,
      "metadata": {
        "id": "yBJn56riLGMY"
      },
      "outputs": [],
      "source": [
        "import nltk                                # Python library for NLP\n",
        "from nltk.corpus import twitter_samples    # sample Twitter dataset from NLTK\n",
        "import matplotlib.pyplot as plt            # library for visualization\n",
        "import random                              # pseudo-random number generator"
      ]
    },
    {
      "cell_type": "markdown",
      "source": [
        "# **About the Twitter dataset**"
      ],
      "metadata": {
        "id": "5sHcQK1kNiHd"
      }
    },
    {
      "cell_type": "markdown",
      "source": [
        "# **References**"
      ],
      "metadata": {
        "id": "wx6pOX7JNll4"
      }
    },
    {
      "cell_type": "markdown",
      "source": [
        "[2- Preprocessing -Assignment_Coursesteach](https://coursesteach.com/mod/page/view.php?id=6021&forceview=1)"
      ],
      "metadata": {
        "id": "U1WSBASWNp9c"
      }
    },
    {
      "cell_type": "markdown",
      "source": [
        "[1-Preprocessing](https://github.com/ibrahimjelliti/Deeplearning.ai-Natural-Language-Processing-Specialization/blob/master/1%20-%20Natural%20Language%20Processing%20with%20Classification%20and%20Vector%20Spaces/Labs/Week%201/NLP_C1_W1_lecture_nb_01.ipynb)"
      ],
      "metadata": {
        "id": "k4y2pXUiN40q"
      }
    }
  ]
}