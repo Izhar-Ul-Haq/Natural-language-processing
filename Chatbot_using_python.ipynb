{
  "nbformat": 4,
  "nbformat_minor": 0,
  "metadata": {
    "colab": {
      "provenance": [],
      "toc_visible": true,
      "include_colab_link": true
    },
    "kernelspec": {
      "name": "python3",
      "display_name": "Python 3"
    },
    "language_info": {
      "name": "python"
    }
  },
  "cells": [
    {
      "cell_type": "markdown",
      "metadata": {
        "id": "view-in-github",
        "colab_type": "text"
      },
      "source": [
        "<a href=\"https://colab.research.google.com/github/hussain0048/Natural-language-processing/blob/main/Chatbot_using_python.ipynb\" target=\"_parent\"><img src=\"https://colab.research.google.com/assets/colab-badge.svg\" alt=\"Open In Colab\"/></a>"
      ]
    },
    {
      "cell_type": "markdown",
      "source": [
        "# **Chatbots 101**"
      ],
      "metadata": {
        "id": "ol-GsPKv40Mx"
      }
    },
    {
      "cell_type": "markdown",
      "source": [
        "## **1.1 Introduction to conversational software**"
      ],
      "metadata": {
        "id": "oPDqoKYR45Hp"
      }
    },
    {
      "cell_type": "markdown",
      "source": [
        "### **EchoBot I**-Mazhar\n",
        "\n"
      ],
      "metadata": {
        "id": "x0oYt6W25JXB"
      }
    },
    {
      "cell_type": "markdown",
      "source": [
        "**EchoBot I**\n",
        "\n",
        "Hello, World!\n",
        "\n",
        "You'll begin learning how to build chatbots in Python by writing two functions to build the simplest bot possible: EchoBot. EchoBot just responds by replying with the same message it receives.\n",
        "\n",
        "In this exercise, you'll define a function that responds to a user's message. In the next exercise, you'll complete EchoBot by writing a function to send a message to the bot.\n",
        "\n",
        "**Instructions:**\n",
        "\n",
        "Write a function called respond() with a single parameter message which returns the bot's response. To do this, concatenate the strings \"I can hear you! You said: \" and message.\n",
        "Store the concatenated strings in bot_message, and return this result."
      ],
      "metadata": {
        "id": "14O-J5ErEQO2"
      }
    },
    {
      "cell_type": "code",
      "source": [
        "bot_template = \"BOT : {0}\"\n",
        "user_template = \"USER : {0}\"\n",
        "\n",
        "# Define a function that responds to a user's message: respond\n",
        "def respond(message):\n",
        "    # Concatenate the user's message to the end of a standard bot respone\n",
        "    bot_message = \"I can hear you! You said: \" + message\n",
        "    # Return the result\n",
        "    return bot_message\n",
        "\n",
        "# Test function\n",
        "print(respond(\"hello!\"))"
      ],
      "metadata": {
        "id": "wOk9TF5TEr8k",
        "colab": {
          "base_uri": "https://localhost:8080/"
        },
        "outputId": "3117d0fe-0cab-49a1-a62b-16c686e334aa"
      },
      "execution_count": null,
      "outputs": [
        {
          "output_type": "stream",
          "name": "stdout",
          "text": [
            "I can hear you! You said: hello!\n"
          ]
        }
      ]
    },
    {
      "cell_type": "markdown",
      "source": [
        "### **EchoBot II**"
      ],
      "metadata": {
        "id": "4sQGPWoQ_2fq"
      }
    },
    {
      "cell_type": "markdown",
      "source": [
        "**EchoBot II**\n",
        "\n",
        "Having written your respond() function, you'll now define a function called send_message() with a single parameter message which logs the message and the bot's response.\n",
        "\n",
        "**Instructions:**\n",
        "\n",
        "Use the user_template string's .format() method to include the user's message into the user template, and print the result.\n",
        "Call the respond() function with the message passed in and save the result as response.\n",
        "Log the bot's response using the bot_template string's .format() method.\n",
        "Send the message \"hello\" to the bot."
      ],
      "metadata": {
        "id": "bp9th4otAOUv"
      }
    },
    {
      "cell_type": "code",
      "source": [
        "# Create templates\n",
        "bot_template = \"BOT : {0}\"\n",
        "user_template = \"USER : {0}\"\n",
        "\n",
        "# Define a function that responds to a user's message: respond\n",
        "\n",
        "\n",
        "def respond(message):\n",
        "    # Concatenate the user's message to the end of a standard bot respone\n",
        "    bot_message = \"I can hear you! You said: \" + message\n",
        "    # Return the result\n",
        "    return bot_message\n",
        "    \n",
        "# Define a function that sends a message to the bot: send_message\n",
        "\n",
        "\n",
        "def send_message(message):\n",
        "    # Print user_template including the user_message\n",
        "    print(user_template.format(message))\n",
        "    # Get the bot's response to the message\n",
        "    response = respond(message)\n",
        "    # Print the bot template including the bot's response.\n",
        "    print(bot_template.format(response))\n",
        "\n",
        "\n",
        "# Send a message to the bot\n",
        "send_message(\"hello\")\n"
      ],
      "metadata": {
        "id": "IB9lVcwSAgG3",
        "outputId": "67c1cce4-b475-46a5-ac87-325c93409d82",
        "colab": {
          "base_uri": "https://localhost:8080/"
        }
      },
      "execution_count": null,
      "outputs": [
        {
          "output_type": "stream",
          "name": "stdout",
          "text": [
            "USER : hello\n",
            "BOT : I can hear you! You said: hello\n"
          ]
        }
      ]
    },
    {
      "cell_type": "markdown",
      "source": [
        "## **1.2- Creating a personality**-Izhar"
      ],
      "metadata": {
        "id": "SBbDEuQFDB99"
      }
    },
    {
      "cell_type": "markdown",
      "source": [
        "### **Chitchat**"
      ],
      "metadata": {
        "id": "hWhVYcTCAzk_"
      }
    },
    {
      "cell_type": "markdown",
      "source": [
        "**Chitchat**\n",
        "\n",
        "Now you're going to leave the simple EchoBot behind and create a bot which can answer simple questions such as \"What's your name?\" and \"What's today's weather?\"\n",
        "\n",
        "You'll use a dictionary with these questions as keys and the correct responses as values.\n",
        "\n",
        "This means the bot will only respond correctly if the message matches exactly, which is a big limitation. In later exercises you will create much more robust solutions.\n",
        "\n",
        "The send_message() function has already been defined for you, as well as the bot_template and user_template variables.\n",
        "\n",
        "**Instructions:**\n",
        "\n",
        "Define a respond() function which takes in a message argument, checks if the message has a pre-defined response, and returns the response in the responses dictionary if there is a match, or the \"default\" message otherwise."
      ],
      "metadata": {
        "id": "me-zjBs6A_kR"
      }
    },
    {
      "cell_type": "code",
      "source": [
        "# Define variables\n",
        "name = \"Greg\"\n",
        "weather = \"cloudy\"\n",
        "\n",
        "# Define a dictionary with the predefined responses\n",
        "responses = {\n",
        "  \"what's your name?\": \"my name is {0}\".format(name),\n",
        "  \"what's today's weather?\": \"the weather is {0}\".format(weather),\n",
        "  \"default\": \"default message\"\n",
        "}\n",
        "\n",
        "# Return the matching response if there is one, default otherwise\n",
        "def respond(message):\n",
        "    # Check if the message is in the responses\n",
        "    if message in responses:\n",
        "        # Return the matching message\n",
        "        bot_message = responses[message]\n",
        "    else:\n",
        "        # Return the \"default\" message\n",
        "        bot_message = responses[\"default\"]\n",
        "    return bot_message\n",
        "\n",
        "# Test function\n",
        "print(respond(\"what's your name?\"))\n",
        "print(respond(\"what's today's weather?\"))"
      ],
      "metadata": {
        "id": "8pIeGT5mBcET"
      },
      "execution_count": null,
      "outputs": []
    },
    {
      "cell_type": "markdown",
      "source": [
        "### **Adding variety**"
      ],
      "metadata": {
        "id": "34jIwVTcB1ET"
      }
    },
    {
      "cell_type": "markdown",
      "source": [
        "**Adding variety**\n",
        "\n",
        "It can get a little boring hearing the same old answers over and over. In this exercise, you'll add some variation. If you ask your bot how it's feeling, the likelihood that it responds with \"oh I'm great!\" or \"I'm very sad today\" should be equal.\n",
        "\n",
        "Here, you'll use the random module - specifically random.choice(ls) - which randomly selects an element from a list ls.\n",
        "\n",
        "A dictionary called responses, which maps each message to a list of possible responses, has been defined for you.\n",
        "\n",
        "**Instructions:**\n",
        "\n",
        "Great job! Adding some variety makes your bot much more fun to talk to. Now, hit 'Run Code' and use send_message() (which utilizes the new respond() function) to ask the bot \"what's your name?\" 3 times.\n",
        "Hit 'Submit Answer' when you're done."
      ],
      "metadata": {
        "id": "eGPKOSZrCC0j"
      }
    },
    {
      "cell_type": "code",
      "source": [
        "# Import the random module\n",
        "import random\n",
        "\n",
        "name = \"Greg\"\n",
        "weather = \"cloudy\"\n",
        "\n",
        "# Define a dictionary containing a list of responses for each message\n",
        "responses = {\n",
        "  \"what's your name?\": [\n",
        "      \"my name is {0}\".format(name),\n",
        "      \"they call me {0}\".format(name),\n",
        "      \"I go by {0}\".format(name)\n",
        "   ],\n",
        "  \"what's today's weather?\": [\n",
        "      \"The weather is {0}\".format(weather),\n",
        "      \"it's {0} today\".format(weather)\n",
        "    ],\n",
        "  \"default\": [\"default message\"]\n",
        "}\n",
        "\n",
        "# Use random.choice() to choose a matching response\n",
        "def respond(message):\n",
        "    # Check if the message is in the responses\n",
        "    if message in responses:\n",
        "        # Return a random matching response\n",
        "        bot_message = random.choice(responses[message])\n",
        "    else:\n",
        "        # Return a random \"default\" response\n",
        "        bot_message = random.choice(responses[\"default\"])\n",
        "    return bot_message\n",
        "\n",
        "# Test function\n",
        "print(respond(\"what's today's weather?\"))"
      ],
      "metadata": {
        "id": "zXlZJKgWCN0L"
      },
      "execution_count": null,
      "outputs": []
    },
    {
      "cell_type": "markdown",
      "source": [
        "### **ELIZA I: asking questions**"
      ],
      "metadata": {
        "id": "glP68mzFDUlU"
      }
    },
    {
      "cell_type": "markdown",
      "source": [
        "##1.3 **Text processing with regular expressions**"
      ],
      "metadata": {
        "id": "x8mZJWWQDr1z"
      }
    }
  ]
}