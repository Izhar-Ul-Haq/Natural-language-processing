{
  "nbformat": 4,
  "nbformat_minor": 0,
  "metadata": {
    "colab": {
      "provenance": [],
      "toc_visible": true,
      "include_colab_link": true
    },
    "kernelspec": {
      "name": "python3",
      "display_name": "Python 3"
    },
    "language_info": {
      "name": "python"
    }
  },
  "cells": [
    {
      "cell_type": "markdown",
      "metadata": {
        "id": "view-in-github",
        "colab_type": "text"
      },
      "source": [
        "<a href=\"https://colab.research.google.com/github/hussain0048/Natural-language-processing/blob/main/Chatbot_using_python.ipynb\" target=\"_parent\"><img src=\"https://colab.research.google.com/assets/colab-badge.svg\" alt=\"Open In Colab\"/></a>"
      ]
    },
    {
      "cell_type": "markdown",
      "source": [
        "# **Chatbots 101**"
      ],
      "metadata": {
        "id": "ol-GsPKv40Mx"
      }
    },
    {
      "cell_type": "markdown",
      "source": [
        "## **1.1 Introduction to conversational software**"
      ],
      "metadata": {
        "id": "oPDqoKYR45Hp"
      }
    },
    {
      "cell_type": "markdown",
      "source": [
        "### **EchoBot I**\n",
        "\n"
      ],
      "metadata": {
        "id": "x0oYt6W25JXB"
      }
    },
    {
      "cell_type": "markdown",
      "source": [
        "**EchoBot I**\n",
        "\n",
        "Hello, World!\n",
        "\n",
        "You'll begin learning how to build chatbots in Python by writing two functions to build the simplest bot possible: EchoBot. EchoBot just responds by replying with the same message it receives.\n",
        "\n",
        "In this exercise, you'll define a function that responds to a user's message. In the next exercise, you'll complete EchoBot by writing a function to send a message to the bot.\n",
        "\n",
        "**Instructions:**\n",
        "\n",
        "Write a function called respond() with a single parameter message which returns the bot's response. To do this, concatenate the strings \"I can hear you! You said: \" and message.\n",
        "Store the concatenated strings in bot_message, and return this result."
      ],
      "metadata": {
        "id": "14O-J5ErEQO2"
      }
    },
    {
      "cell_type": "code",
      "source": [
        "bot_template = \"BOT : {0}\"\n",
        "user_template = \"USER : {0}\"\n",
        "\n",
        "# Define a function that responds to a user's message: respond\n",
        "def respond(message):\n",
        "    # Concatenate the user's message to the end of a standard bot respone\n",
        "    bot_message = \"I can hear you! You said: \" + message\n",
        "    # Return the result\n",
        "    return bot_message\n",
        "\n",
        "# Test function\n",
        "print(respond(\"hello!\"))"
      ],
      "metadata": {
        "id": "wOk9TF5TEr8k",
        "colab": {
          "base_uri": "https://localhost:8080/"
        },
        "outputId": "609dc140-e07f-4a08-f3c6-bbbf71937445"
      },
      "execution_count": null,
      "outputs": [
        {
          "output_type": "stream",
          "name": "stdout",
          "text": [
            "I can hear you! You said: hello!\n"
          ]
        }
      ]
    },
    {
      "cell_type": "markdown",
      "source": [
        "### **EchoBot II**"
      ],
      "metadata": {
        "id": "4sQGPWoQ_2fq"
      }
    },
    {
      "cell_type": "markdown",
      "source": [
        "**EchoBot II**\n",
        "\n",
        "Having written your respond() function, you'll now define a function called send_message() with a single parameter message which logs the message and the bot's response.\n",
        "\n",
        "**Instructions:**\n",
        "\n",
        "Use the user_template string's .format() method to include the user's message into the user template, and print the result.\n",
        "Call the respond() function with the message passed in and save the result as response.\n",
        "Log the bot's response using the bot_template string's .format() method.\n",
        "Send the message \"hello\" to the bot."
      ],
      "metadata": {
        "id": "bp9th4otAOUv"
      }
    },
    {
      "cell_type": "code",
      "source": [
        "# Create templates\n",
        "bot_template = \"BOT : {0}\"\n",
        "user_template = \"USER : {0}\"\n",
        "\n",
        "# Define a function that responds to a user's message: respond\n",
        "\n",
        "\n",
        "def respond(message):\n",
        "    # Concatenate the user's message to the end of a standard bot respone\n",
        "    bot_message = \"I can hear you! You said: \" + message\n",
        "    # Return the result\n",
        "    return bot_message\n",
        "    \n",
        "# Define a function that sends a message to the bot: send_message\n",
        "\n",
        "\n",
        "def send_message(message):\n",
        "    # Print user_template including the user_message\n",
        "    print(user_template.format(message))\n",
        "    # Get the bot's response to the message\n",
        "    response = respond(message)\n",
        "    # Print the bot template including the bot's response.\n",
        "    print(bot_template.format(response))\n",
        "\n",
        "\n",
        "# Send a message to the bot\n",
        "send_message(\"hello\")\n"
      ],
      "metadata": {
        "id": "IB9lVcwSAgG3",
        "outputId": "3e446084-e0b8-4096-c435-1e9e26d3e6a9",
        "colab": {
          "base_uri": "https://localhost:8080/"
        }
      },
      "execution_count": null,
      "outputs": [
        {
          "output_type": "stream",
          "name": "stdout",
          "text": [
            "USER : hello\n",
            "BOT : I can hear you! You said: hello\n"
          ]
        }
      ]
    },
    {
      "cell_type": "markdown",
      "source": [
        "## **1.2- Creating a personality**"
      ],
      "metadata": {
        "id": "SBbDEuQFDB99"
      }
    },
    {
      "cell_type": "markdown",
      "source": [
        "### **Chitchat**"
      ],
      "metadata": {
        "id": "hWhVYcTCAzk_"
      }
    },
    {
      "cell_type": "markdown",
      "source": [
        "**Chitchat**\n",
        "\n",
        "Now you're going to leave the simple EchoBot behind and create a bot which can answer simple questions such as \"What's your name?\" and \"What's today's weather?\"\n",
        "\n",
        "You'll use a dictionary with these questions as keys and the correct responses as values.\n",
        "\n",
        "This means the bot will only respond correctly if the message matches exactly, which is a big limitation. In later exercises you will create much more robust solutions.\n",
        "\n",
        "The send_message() function has already been defined for you, as well as the bot_template and user_template variables.\n",
        "\n",
        "**Instructions:**\n",
        "\n",
        "Define a respond() function which takes in a message argument, checks if the message has a pre-defined response, and returns the response in the responses dictionary if there is a match, or the \"default\" message otherwise."
      ],
      "metadata": {
        "id": "me-zjBs6A_kR"
      }
    },
    {
      "cell_type": "code",
      "source": [
        "# Define variables\n",
        "name = \"Greg\"\n",
        "weather = \"cloudy\"\n",
        "\n",
        "# Define a dictionary with the predefined responses\n",
        "responses = {\n",
        "  \"what's your name?\": \"my name is {0}\".format(name),\n",
        "  \"what's today's weather?\": \"the weather is {0}\".format(weather),\n",
        "  \"default\": \"default message\"\n",
        "}\n",
        "\n",
        "# Return the matching response if there is one, default otherwise\n",
        "def respond(message):\n",
        "    # Check if the message is in the responses\n",
        "    if message in responses:\n",
        "        # Return the matching message\n",
        "        bot_message = responses[message]\n",
        "    else:\n",
        "        # Return the \"default\" message\n",
        "        bot_message = responses[\"default\"]\n",
        "    return bot_message\n",
        "\n",
        "# Test function\n",
        "print(respond(\"what's your name?\"))\n",
        "print(respond(\"what's today's weather?\"))"
      ],
      "metadata": {
        "id": "8pIeGT5mBcET",
        "outputId": "cf11049b-f2a0-4d75-fe01-2f657de48530",
        "colab": {
          "base_uri": "https://localhost:8080/"
        }
      },
      "execution_count": null,
      "outputs": [
        {
          "output_type": "stream",
          "name": "stdout",
          "text": [
            "my name is Greg\n",
            "the weather is cloudy\n"
          ]
        }
      ]
    },
    {
      "cell_type": "markdown",
      "source": [
        "### **Adding variety**"
      ],
      "metadata": {
        "id": "34jIwVTcB1ET"
      }
    },
    {
      "cell_type": "markdown",
      "source": [
        "**Adding variety**\n",
        "\n",
        "It can get a little boring hearing the same old answers over and over. In this exercise, you'll add some variation. If you ask your bot how it's feeling, the likelihood that it responds with \"oh I'm great!\" or \"I'm very sad today\" should be equal.\n",
        "\n",
        "Here, you'll use the random module - specifically random.choice(ls) - which randomly selects an element from a list ls.\n",
        "\n",
        "A dictionary called responses, which maps each message to a list of possible responses, has been defined for you.\n",
        "\n",
        "**Instructions:**\n",
        "\n",
        "Great job! Adding some variety makes your bot much more fun to talk to. Now, hit 'Run Code' and use send_message() (which utilizes the new respond() function) to ask the bot \"what's your name?\" 3 times.\n",
        "Hit 'Submit Answer' when you're done."
      ],
      "metadata": {
        "id": "eGPKOSZrCC0j"
      }
    },
    {
      "cell_type": "code",
      "source": [
        "# Import the random module\n",
        "import random\n",
        "\n",
        "name = \"Greg\"\n",
        "weather = \"cloudy\"\n",
        "\n",
        "# Define a dictionary containing a list of responses for each message\n",
        "responses = {\n",
        "  \"what's your name?\": [\n",
        "      \"my name is {0}\".format(name),\n",
        "      \"they call me {0}\".format(name),\n",
        "      \"I go by {0}\".format(name)\n",
        "   ],\n",
        "  \"what's today's weather?\": [\n",
        "      \"The weather is {0}\".format(weather),\n",
        "      \"it's {0} today\".format(weather)\n",
        "    ],\n",
        "  \"default\": [\"default message\"]\n",
        "}\n",
        "\n",
        "# Use random.choice() to choose a matching response\n",
        "def respond(message):\n",
        "    # Check if the message is in the responses\n",
        "    if message in responses:\n",
        "        # Return a random matching response\n",
        "        bot_message = random.choice(responses[message])\n",
        "    else:\n",
        "        # Return a random \"default\" response\n",
        "        bot_message = random.choice(responses[\"default\"])\n",
        "    return bot_message\n",
        "\n",
        "# Test function\n",
        "print(respond(\"what's today's weather?\"))"
      ],
      "metadata": {
        "id": "zXlZJKgWCN0L",
        "colab": {
          "base_uri": "https://localhost:8080/"
        },
        "outputId": "abb5b3dd-8a3b-4abd-c2ef-36610bd7ca0b"
      },
      "execution_count": null,
      "outputs": [
        {
          "output_type": "stream",
          "name": "stdout",
          "text": [
            "it's cloudy today\n"
          ]
        }
      ]
    },
    {
      "cell_type": "markdown",
      "source": [
        "### **ELIZA I: asking questions**"
      ],
      "metadata": {
        "id": "glP68mzFDUlU"
      }
    },
    {
      "cell_type": "code",
      "source": [
        "import random\n",
        "\n",
        "def respond(message):\n",
        "    # Check for a question mark\n",
        "    if message.endswith(\"?\"):\n",
        "        # Return a random question\n",
        "        return random.choice(responses[message])\n",
        "    # Return a random statement\n",
        "    return random.choice(responses[\"default\"])\n",
        "\n",
        "\n",
        "# Send messages ending in a question mark\n",
        "send_message(\"what's today's weather?\")\n",
        "send_message(\"what's today's weather?\")\n",
        "\n",
        "# Send messages which don't end with a question mark\n",
        "send_message(\"I love building chatbots\")\n",
        "send_message(\"I love building chatbots\")"
      ],
      "metadata": {
        "colab": {
          "base_uri": "https://localhost:8080/"
        },
        "id": "Mz5vCHf5S144",
        "outputId": "2cf719ee-b17f-4a1b-a498-13dc50e7bcb8"
      },
      "execution_count": null,
      "outputs": [
        {
          "output_type": "stream",
          "name": "stdout",
          "text": [
            "USER : what's today's weather?\n",
            "BOT : it's cloudy today\n",
            "USER : what's today's weather?\n",
            "BOT : The weather is cloudy\n",
            "USER : I love building chatbots\n",
            "BOT : default message\n",
            "USER : I love building chatbots\n",
            "BOT : default message\n"
          ]
        }
      ]
    },
    {
      "cell_type": "markdown",
      "source": [
        "##1.3 **Text processing with regular expressions**"
      ],
      "metadata": {
        "id": "x8mZJWWQDr1z"
      }
    },
    {
      "cell_type": "markdown",
      "source": [
        "**ChatBOT App**"
      ],
      "metadata": {
        "id": "sG1SMfkVgGBd"
      }
    },
    {
      "cell_type": "code",
      "source": [],
      "metadata": {
        "id": "TinV-NYlWQWN"
      },
      "execution_count": null,
      "outputs": []
    },
    {
      "cell_type": "code",
      "source": [
        "import json \n",
        "import numpy as np \n",
        "import tensorflow as tf\n",
        "from tensorflow import keras\n",
        "from tensorflow.keras.models import Sequential\n",
        "from tensorflow.keras.layers import Dense, Embedding, GlobalAveragePooling1D\n",
        "from tensorflow.keras.preprocessing.text import Tokenizer\n",
        "from tensorflow.keras.preprocessing.sequence import pad_sequences\n",
        "from sklearn.preprocessing import LabelEncoder\n",
        "\n",
        "\n",
        "\n",
        "with open('intents.json') as file:\n",
        "    data = json.load(file)\n",
        "    \n",
        "training_sentences = []\n",
        "training_labels = []\n",
        "labels = []\n",
        "responses = []\n",
        "\n",
        "\n",
        "for intent in data['intents']:\n",
        "    for pattern in intent['patterns']:\n",
        "        training_sentences.append(pattern)\n",
        "        training_labels.append(intent['tag'])\n",
        "    responses.append(intent['responses'])\n",
        "    \n",
        "    if intent['tag'] not in labels:\n",
        "        labels.append(intent['tag'])\n",
        "        \n",
        "num_classes = len(labels)\n",
        "\n",
        "\n",
        "lbl_encoder = LabelEncoder()\n",
        "lbl_encoder.fit(training_labels)\n",
        "training_labels = lbl_encoder.transform(training_labels)\n",
        "\n",
        "\n",
        "vocab_size = 1000\n",
        "embedding_dim = 16\n",
        "max_len = 20\n",
        "oov_token = \"<OOV>\"\n",
        "\n",
        "tokenizer = Tokenizer(num_words=vocab_size, oov_token=oov_token)\n",
        "tokenizer.fit_on_texts(training_sentences)\n",
        "word_index = tokenizer.word_index\n",
        "sequences = tokenizer.texts_to_sequences(training_sentences)\n",
        "padded_sequences = pad_sequences(sequences, truncating='post', maxlen=max_len)\n",
        "\n",
        "\n",
        "model = Sequential()\n",
        "model.add(Embedding(vocab_size, embedding_dim, input_length=max_len))\n",
        "model.add(GlobalAveragePooling1D())\n",
        "model.add(Dense(16, activation='relu'))\n",
        "model.add(Dense(16, activation='relu'))\n",
        "model.add(Dense(num_classes, activation='softmax'))\n",
        "\n",
        "model.compile(loss='sparse_categorical_crossentropy', \n",
        "              optimizer='adam', metrics=['accuracy'])\n",
        "\n",
        "model.summary()\n",
        "\n",
        "\n",
        "epochs = 500\n",
        "history = model.fit(padded_sequences, np.array(training_labels), epochs=epochs)\n",
        "\n",
        "\n",
        "# to save the trained model\n",
        "model.save(\"chat_model\")\n",
        "\n",
        "import pickle\n",
        "\n",
        "# to save the fitted tokenizer\n",
        "with open('tokenizer.pickle', 'wb') as handle:\n",
        "    pickle.dump(tokenizer, handle, protocol=pickle.HIGHEST_PROTOCOL)\n",
        "    \n",
        "# to save the fitted label encoder\n",
        "with open('label_encoder.pickle', 'wb') as ecn_file:\n",
        "    pickle.dump(lbl_encoder, ecn_file, protocol=pickle.HIGHEST_PROTOCOL)"
      ],
      "metadata": {
        "id": "FKs7da2EeBAQ"
      },
      "execution_count": null,
      "outputs": []
    },
    {
      "cell_type": "code",
      "source": [
        "import json \n",
        "import numpy as np\n",
        "from tensorflow import keras\n",
        "from sklearn.preprocessing import LabelEncoder\n",
        "import kivy as kv\n",
        "import PyQt5 as pq\n",
        "\n",
        "\n",
        "import colorama \n",
        "colorama.init()\n",
        "from colorama import Fore, Style, Back\n",
        "\n",
        "import random\n",
        "import pickle\n",
        "\n",
        "with open(\"intents.json\") as file:\n",
        "    data = json.load(file)\n",
        "\n",
        "\n",
        "def chat():\n",
        "    # load trained model\n",
        "    model = keras.models.load_model('chat_model')\n",
        "\n",
        "    # load tokenizer object\n",
        "    with open('tokenizer.pickle', 'rb') as handle:\n",
        "        tokenizer = pickle.load(handle)\n",
        "\n",
        "    # load label encoder object\n",
        "    with open('label_encoder.pickle', 'rb') as enc:\n",
        "        lbl_encoder = pickle.load(enc)\n",
        "\n",
        "    # parameters\n",
        "    max_len = 20\n",
        "    \n",
        "    while True:\n",
        "        print(Fore.LIGHTBLUE_EX + \"User: \" + Style.RESET_ALL, end=\"\")\n",
        "        inp = input()\n",
        "        if inp.lower() == \"quit\":\n",
        "            break\n",
        "\n",
        "        result = model.predict(keras.preprocessing.sequence.pad_sequences(tokenizer.texts_to_sequences([inp]),\n",
        "                                             truncating='post', maxlen=max_len))\n",
        "        tag = lbl_encoder.inverse_transform([np.argmax(result)])\n",
        "\n",
        "        for i in data['intents']:\n",
        "            if i['tag'] == tag:\n",
        "                print(Fore.GREEN + \"ChatBot:\" + Style.RESET_ALL , np.random.choice(i['responses']))\n",
        "\n",
        "        # print(Fore.GREEN + \"ChatBot:\" + Style.RESET_ALL,random.choice(responses))\n",
        "\n",
        "print(Fore.YELLOW + \"Start messaging with the bot (type quit to stop)!\" + Style.RESET_ALL)\n",
        "chat()"
      ],
      "metadata": {
        "id": "Bj2c-PipeQrQ"
      },
      "execution_count": null,
      "outputs": []
    },
    {
      "cell_type": "code",
      "source": [],
      "metadata": {
        "id": "ZSxZj8gtfRW-"
      },
      "execution_count": null,
      "outputs": []
    },
    {
      "cell_type": "markdown",
      "source": [
        "# Chapter 2"
      ],
      "metadata": {
        "id": "nIpHSpFn8kp2"
      }
    },
    {
      "cell_type": "markdown",
      "source": [
        "**Intent classification with regex I**"
      ],
      "metadata": {
        "id": "Xz17gv4H80Fm"
      }
    },
    {
      "cell_type": "markdown",
      "source": [
        "You'll begin by implementing a very simple technique to recognize intents - looking for the presence of keywords.\n",
        "\n",
        "A dictionary, keywords, has already been defined. It has the intents \"greet\", \"goodbye\", and \"thankyou\" as keys, and lists of keywords as the corresponding values. For example, keywords[\"greet\"] is set to \"[\"hello\",\"hi\",\"hey\"].\n",
        "\n",
        "Also defined is a second dictionary, responses, indicating how the bot should respond to each of these intents. It also has a default response with the key \"default\".\n",
        "\n",
        "The function send_message(), along with the bot and user templates, have also already been defined. Your job in this exercise is to create a dictionary with the intents as keys and regex objects as values."
      ],
      "metadata": {
        "id": "y0BQOMNy85MM"
      }
    },
    {
      "cell_type": "markdown",
      "source": [
        "**Instruction**"
      ],
      "metadata": {
        "id": "rbBn-YFa88Eu"
      }
    },
    {
      "cell_type": "markdown",
      "source": [
        "Iterate over the keywords dictionary, using intent and keys as your iterator variables.\n",
        "Use '|'.join(keys) to create regular expressions to match at least one of the keywords and pass it to re.compile() to compile the regular expressions into pattern objects. Store the result as the value of the patterns dictionary."
      ],
      "metadata": {
        "id": "5vM8H9gi9K8V"
      }
    },
    {
      "cell_type": "code",
      "source": [
        "import re\n",
        "\n",
        "keywords = {'greet': ['hi', 'hello', 'hey'], 'goodbye': ['bye', 'goodbye', 'see you']}\n",
        "patterns = {}\n",
        "\n",
        "for intent, keys in keywords.items():\n",
        "    patterns[intent] = re.compile('|'.join(keys))"
      ],
      "metadata": {
        "id": "RRbGe1OtfG-g"
      },
      "execution_count": null,
      "outputs": []
    },
    {
      "cell_type": "code",
      "source": [
        "print(patterns)"
      ],
      "metadata": {
        "id": "cC3ei5oXeZ3N",
        "colab": {
          "base_uri": "https://localhost:8080/"
        },
        "outputId": "25820a2b-2eaa-42ed-c997-ae8901e21892"
      },
      "execution_count": null,
      "outputs": [
        {
          "output_type": "stream",
          "name": "stdout",
          "text": [
            "{'greet': re.compile('hi|hello|hey'), 'goodbye': re.compile('bye|goodbye|see you')}\n"
          ]
        }
      ]
    },
    {
      "cell_type": "markdown",
      "source": [],
      "metadata": {
        "id": "rArhwHyzAAnW"
      }
    },
    {
      "cell_type": "code",
      "source": [
        "def match_intent(message):\n",
        "    for intent, pattern in patterns.items():\n",
        "        if pattern.search(message):\n",
        "            return intent\n",
        "\n",
        "def respond(message):\n",
        "    intent = match_intent(message)\n",
        "    if intent == 'greet':\n",
        "        return 'Hello, how can I help you today?'\n",
        "    elif intent == 'goodbye':\n",
        "        return 'Goodbye, have a great day!'\n",
        "    else:\n",
        "        return 'I am sorry, I do not understand what you mean.'\n",
        "\n",
        "def send_message(message):\n",
        "    # Print user_template including the user_message\n",
        "    print(user_template.format(message))\n",
        "    # Get the bot's response to the message\n",
        "    response = respond(message)\n",
        "    # Print the bot template including the bot's response.\n",
        "    print(bot_template.format(response))"
      ],
      "metadata": {
        "id": "OYTwrAliAD7_"
      },
      "execution_count": null,
      "outputs": []
    },
    {
      "cell_type": "code",
      "source": [
        "send_message(\"hello!\")\n",
        "send_message(\"bye byeee\")\n",
        "send_message(\"thanks very much!\")"
      ],
      "metadata": {
        "id": "F14O4wzwAEBP",
        "colab": {
          "base_uri": "https://localhost:8080/"
        },
        "outputId": "652ca30f-5a7e-4c38-e496-90e16923f6b2"
      },
      "execution_count": null,
      "outputs": [
        {
          "output_type": "stream",
          "name": "stdout",
          "text": [
            "USER : hello!\n",
            "BOT : Hello, how can I help you today?\n",
            "USER : bye byeee\n",
            "BOT : Goodbye, have a great day!\n",
            "USER : thanks very much!\n",
            "BOT : I am sorry, I do not understand what you mean.\n"
          ]
        }
      ]
    },
    {
      "cell_type": "code",
      "source": [
        "def find_name(message):\n",
        "    name = None\n",
        "    # Create a pattern for checking if the keywords occur\n",
        "    name_keyword = re.compile('name|call')\n",
        "    # Create a pattern for finding capitalized words\n",
        "    name_pattern = re.compile('[A-Z]{1}[a-z]*')\n",
        "    if name_keyword.search(message):\n",
        "        # Get the matching words in the string\n",
        "        name_words = name_pattern.findall(message)\n",
        "        if len(name_words) > 0:\n",
        "            # Return the name if the keywords are present\n",
        "            name = ' '.join(name_words)\n",
        "    return name\n",
        "\n",
        "# Define respond()\n",
        "def respond(message):\n",
        "    # Find the name\n",
        "    name = find_name(message)\n",
        "    if name is None:\n",
        "        return \"Hi there!\"\n",
        "    else:\n",
        "        return \"Hello, {0}!\".format(name)\n",
        "\n",
        "# Send messages\n",
        "send_message(\"my name is David Copperfield\")\n",
        "send_message(\"call me Ishmael\")\n",
        "send_message(\"People call me Cassandra\")\n",
        "\n"
      ],
      "metadata": {
        "colab": {
          "base_uri": "https://localhost:8080/"
        },
        "id": "meDopDZqAEE0",
        "outputId": "2d317370-4bb9-48ed-d20e-867388d82705"
      },
      "execution_count": null,
      "outputs": [
        {
          "output_type": "stream",
          "name": "stdout",
          "text": [
            "USER : my name is David Copperfield\n",
            "BOT : Hello, David Copperfield!\n",
            "USER : call me Ishmael\n",
            "BOT : Hello, Ishmael!\n",
            "USER : People call me Cassandra\n",
            "BOT : Hello, People Cassandra!\n"
          ]
        }
      ]
    },
    {
      "cell_type": "markdown",
      "source": [
        "# 2.1 Word Vector"
      ],
      "metadata": {
        "id": "oyt6W8qsjOxs"
      }
    },
    {
      "cell_type": "markdown",
      "source": [
        "**Word Vector**"
      ],
      "metadata": {
        "id": "1edq6PPvi-kZ"
      }
    },
    {
      "cell_type": "markdown",
      "source": [
        "#Word vector Exercise"
      ],
      "metadata": {
        "id": "g0yVRPd4GiX1"
      }
    },
    {
      "cell_type": "code",
      "source": [
        "import spacy\n",
        "import numpy as np\n",
        "\n",
        "# Load the English model\n",
        "nlp = spacy.blank('en')\n",
        "\n",
        "# Sample sentences\n",
        "sentences = [\"This is sentence 1.\", \"This is sentence 2.\", \"This is sentence 3.\"]\n",
        "\n",
        "# Initialize the array to store sentence vectors\n",
        "num_sentences = len(sentences)\n",
        "vector_dim = nlp.vocab.vectors_length\n",
        "# Initialize the array with zeros: X\n",
        "X = np.zeros((num_sentences, vector_dim))\n",
        "\n",
        "\n",
        "for i, sentence in enumerate(sentences):\n",
        "    doc = nlp(sentence)\n",
        "    # Process each sentence and store its vector representation in X\n",
        "    X[i, :] = doc.vector\n",
        "    print(doc)"
      ],
      "metadata": {
        "id": "EYBpftDri2WD",
        "colab": {
          "base_uri": "https://localhost:8080/"
        },
        "outputId": "2f968ed3-b957-436c-f85e-a25e9b974a5d"
      },
      "execution_count": null,
      "outputs": [
        {
          "output_type": "stream",
          "name": "stdout",
          "text": [
            "This is sentence 1.\n",
            "This is sentence 2.\n",
            "This is sentence 3.\n"
          ]
        }
      ]
    },
    {
      "cell_type": "code",
      "source": [],
      "metadata": {
        "id": "D_bz7cXRHodk"
      },
      "execution_count": null,
      "outputs": []
    }
  ]
}